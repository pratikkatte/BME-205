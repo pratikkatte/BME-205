{
 "cells": [
  {
   "cell_type": "markdown",
   "id": "4cf297d1-6cac-42ef-98fb-13f68758f55a",
   "metadata": {},
   "source": [
    "# DAGs - a generalization of the alignment problem\n"
   ]
  },
  {
   "cell_type": "code",
   "execution_count": null,
   "id": "bff94f1d-e04e-4540-9f9b-30a575a04ef7",
   "metadata": {},
   "outputs": [],
   "source": []
  },
  {
   "cell_type": "markdown",
   "id": "baed457e-705f-443c-aa5a-a3fc7e7e7082",
   "metadata": {},
   "source": [
    "# Problem 15 - Find the Longest Path in a DAG"
   ]
  },
  {
   "cell_type": "code",
   "execution_count": 7,
   "id": "54408e75-1949-4a4f-bbf9-a70e3c644932",
   "metadata": {
    "tags": []
   },
   "outputs": [
    {
     "name": "stdout",
     "output_type": "stream",
     "text": [
      "113\n",
      "9->13->15->16->17->19\n"
     ]
    }
   ],
   "source": [
    "class DAG:\n",
    "    \"\"\"\n",
    "    \"\"\"\n",
    "    \n",
    "    def __init__(self, start, end, contents):\n",
    "        \"\"\"\n",
    "        Determine the lengthiest route within a Directed Acyclic Graph and provide the associated score.\n",
    "        \"\"\"\n",
    "        self.start = start #start node\n",
    "        self.end = end #end node\n",
    "        self.contents = contents #Graph elements\n",
    "        self.node_dict = {} #Dictionary for nodes and possible out edges\n",
    "        self.edge_dict = {} #Dictionary of edges and their weights\n",
    "        self.path = [] #List of all possible paths\n",
    "        self.weight = [] #List of all possible weights.\n",
    "\n",
    "    def createDicts(self):\n",
    "        \"\"\"\n",
    "        Generates two dictionaries: one for nodes and their potential outgoing edges, \n",
    "        and another for edges and their corresponding weights.\n",
    "        \"\"\"\n",
    "        \n",
    "        for line in self.contents:\n",
    "            arrow = line.split(\":\")[0]\n",
    "            splitting = line.split(\"->\")\n",
    "            splitting1 = splitting[1].split(\":\")[0]\n",
    "            splitting2 = splitting[1].split(\":\")[1]\n",
    "            tuple = (arrow)\n",
    "            value = (splitting[0])\n",
    "            if (splitting1 == self.start):\n",
    "                continue\n",
    "            elif (value == self.end):\n",
    "                continue\n",
    "            else:\n",
    "                if value in self.node_dict.keys():\n",
    "                    self.node_dict[value].append((splitting1))\n",
    "                else:\n",
    "                    self.node_dict[value] = [splitting1]\n",
    "                self.edge_dict[tuple] = (int(splitting2))\n",
    "        #print(self.edge_dict)\n",
    "        return self.node_dict, self.edge_dict\n",
    "\n",
    "    def allPaths(self, this, end, path = []):\n",
    "        \"\"\"\n",
    "        Find all feasible routes from the source node to the destination node.\n",
    "        \n",
    "        \"\"\"\n",
    "        for love in self.node_dict.get(this):\n",
    "            hello = path + [love]\n",
    "            this = hello[-1]\n",
    "            if hello[-1] == end:\n",
    "                self.path.append(hello)\n",
    "            else:\n",
    "                if this not in self.node_dict.keys():\n",
    "                    self.node_dict[hello[-2]].remove(hello[-1])\n",
    "                    hello.pop()\n",
    "                DAG.allpaths(self, hello[-1], end, hello) \n",
    "        return self.path\n",
    "\n",
    "    def edgeWeights(self):\n",
    "        \"\"\"\n",
    "        Calculates the weight for each path and displays the maximum score and most extended route.\n",
    "        \"\"\"\n",
    "        weights = []\n",
    "        for element in self.path:\n",
    "            count = 0 \n",
    "            for ele in range(1,len(element)):\n",
    "                node_string = str(element[ele-1])\n",
    "                svalue = str(element[ele])\n",
    "                node_string += \"->\"\n",
    "                node_string += svalue\n",
    "                if node_string in self.edge_dict:\n",
    "                    x = self.edge_dict[node_string]\n",
    "                    count += x\n",
    "            weights.append(count)\n",
    "        max_element = max(weights)\n",
    "        other = weights.index(max_element)\n",
    "        longest_path = \"->\".join(self.path[other])\n",
    "        print(max_element)\n",
    "        print(longest_path)\n",
    "\n",
    "\n",
    "def main(in_file=None):\n",
    "    \"\"\"\n",
    "    Reads the input file and calls the necessary functions to display the longest path and highest score.\n",
    "    \"\"\"\n",
    "    with open(in_file) as f:\n",
    "        text = []\n",
    "        for line in file:\n",
    "            text.append(line.strip())\n",
    "        start = (text[0])\n",
    "        end = (text[1])\n",
    "        input_edges = text[2:]\n",
    "    dag_obj = DAG(start, end, input_edges)\n",
    "    dag_obj.createDicts()\n",
    "    dag_obj.allpaths(start, end, [start])\n",
    "    dag_obj.edgeWeights()\n",
    "\n",
    "if __name__ == \"__main__\":\n",
    "    main(inFile='rosalind_ba5d.txt')"
   ]
  }
 ],
 "metadata": {
  "kernelspec": {
   "display_name": "Python 3 (ipykernel)",
   "language": "python",
   "name": "python3"
  },
  "language_info": {
   "codemirror_mode": {
    "name": "ipython",
    "version": 3
   },
   "file_extension": ".py",
   "mimetype": "text/x-python",
   "name": "python",
   "nbconvert_exporter": "python",
   "pygments_lexer": "ipython3",
   "version": "3.11.4"
  }
 },
 "nbformat": 4,
 "nbformat_minor": 5
}
